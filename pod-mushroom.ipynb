{
 "cells": [
  {
   "cell_type": "code",
   "execution_count": 42,
   "metadata": {},
   "outputs": [],
   "source": [
    "import cv2\n",
    "import os\n",
    "import numpy as np\n",
    "from random import shuffle\n",
    "import imutils #need to install this with pip\n",
    "import matplotlib.pyplot as plt\n",
    "from skimage import data, color, exposure\n",
    "from sklearn import svm\n",
    "import data_generator as dg\n",
    "from sklearn.metrics import classification_report\n",
    "from sklearn.metrics import confusion_matrix\n",
    "%matplotlib inline\n",
    "import glob"
   ]
  },
  {
   "cell_type": "code",
   "execution_count": 52,
   "metadata": {},
   "outputs": [
    {
     "name": "stdout",
     "output_type": "stream",
     "text": [
      "8 positive images\n"
     ]
    }
   ],
   "source": [
    "pimages = [cv2.imread(file) for file in glob.glob(\"imgs/*.jpg\")]\n",
    "print(len(pimages), \"positive images\")"
   ]
  },
  {
   "cell_type": "code",
   "execution_count": 44,
   "metadata": {},
   "outputs": [
    {
     "name": "stdout",
     "output_type": "stream",
     "text": [
      "200 negative images\n"
     ]
    }
   ],
   "source": [
    "#get negative images, use ratios found for positive images to match\n",
    "nimages = dg.getRandomMultiple(\"neg_imgs\", 200, 0)\n",
    "nimages = [x[1] for x in nimages]\n",
    "\n",
    "print(len(nimages), \"negative images\")"
   ]
  },
  {
   "cell_type": "code",
   "execution_count": 53,
   "metadata": {
    "collapsed": true
   },
   "outputs": [],
   "source": [
    "minDim = 80\n",
    "blockSize = (16,16)\n",
    "blockStride = (8,8)\n",
    "cellSize = (8,8)\n",
    "nbins = 9\n",
    "\n",
    "dims = (minDim, minDim)\n",
    "\n",
    "hog = cv2.HOGDescriptor(dims, blockSize, blockStride, cellSize, nbins)"
   ]
  },
  {
   "cell_type": "code",
   "execution_count": 54,
   "metadata": {},
   "outputs": [
    {
     "name": "stdout",
     "output_type": "stream",
     "text": [
      "YES\n",
      "YES\n",
      "YES\n",
      "YES\n",
      "YES\n",
      "YES\n",
      "YES\n",
      "YES\n"
     ]
    }
   ],
   "source": [
    "if(len(pimages) == 0):\n",
    "    print(\"The are no positive images!\")\n",
    "\n",
    "for i in range(len(pimages)):\n",
    "    cv2.resize(pimages[i], (80,80))\n",
    "    print(\"YES\")"
   ]
  },
  {
   "cell_type": "code",
   "execution_count": null,
   "metadata": {
    "collapsed": true
   },
   "outputs": [],
   "source": []
  }
 ],
 "metadata": {
  "kernelspec": {
   "display_name": "Python 3",
   "language": "python",
   "name": "python3"
  }
 },
 "nbformat": 4,
 "nbformat_minor": 2
}
