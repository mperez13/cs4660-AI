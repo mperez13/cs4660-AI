{
 "cells": [
  {
   "cell_type": "code",
   "execution_count": 52,
   "metadata": {},
   "outputs": [
    {
     "name": "stdout",
     "output_type": "stream",
     "text": [
      "[['class' 'cap-shape' 'cap-surface' ..., 'spore-print-color' 'population'\n",
      "  'habitat']\n",
      " ['p' 'x' 's' ..., 'k' 's' 'u']\n",
      " ['e' 'x' 's' ..., 'n' 'n' 'g']\n",
      " ..., \n",
      " ['e' 'f' 's' ..., 'b' 'c' 'l']\n",
      " ['p' 'k' 'y' ..., 'w' 'v' 'l']\n",
      " ['e' 'x' 's' ..., 'o' 'c' 'l']]\n"
     ]
    }
   ],
   "source": [
    "import numpy as np\n",
    "import pandas as pd\n",
    "import matplotlib.pyplot as plt\n",
    "%matplotlib inline\n",
    "from sklearn import tree #see http://scikit-learn.org/stable/modules/generated/sklearn.tree.DecisionTreeClassifier.html\n",
    "from sklearn.model_selection import train_test_split\n",
    "from sklearn.naive_bayes import GaussianNB\n",
    "from sklearn.ensemble import RandomForestClassifier, AdaBoostClassifier\n",
    "from sklearn.discriminant_analysis import QuadraticDiscriminantAnalysis\n",
    "from sklearn.neighbors import KNeighborsClassifier\n",
    "from sklearn.neural_network import MLPClassifier\n",
    "from sklearn.naive_bayes import MultinomialNB\n",
    "\n",
    "my_data =  np.loadtxt('mushrooms.csv', dtype=str, delimiter=',')\n",
    "\n",
    "print(my_data)"
   ]
  },
  {
   "cell_type": "code",
   "execution_count": 53,
   "metadata": {},
   "outputs": [],
   "source": [
    "\n",
    "\n",
    "my_data[my_data=='e'] = 0\n",
    "\n",
    "my_data[my_data=='p'] = 1\n",
    "\n",
    "\n",
    "\n",
    "\n",
    "my_data[my_data=='a'] = 2\n",
    "my_data[my_data=='b'] = 3\n",
    "my_data[my_data=='c'] = 4\n",
    "my_data[my_data=='d'] = 5\n",
    "my_data[my_data=='f'] = 6\n",
    "my_data[my_data=='g'] = 7\n",
    "my_data[my_data=='h'] = 22\n",
    "my_data[my_data=='k'] = 8\n",
    "my_data[my_data=='l'] = 9\n",
    "my_data[my_data=='m'] = 10\n",
    "my_data[my_data=='n'] = 11\n",
    "my_data[my_data=='o'] = 12\n",
    "my_data[my_data=='r'] = 13\n",
    "my_data[my_data=='s'] = 14\n",
    "my_data[my_data=='t'] = 15\n",
    "my_data[my_data=='u'] = 16\n",
    "my_data[my_data=='v'] = 17\n",
    "my_data[my_data=='w'] = 18\n",
    "my_data[my_data=='x'] = 19\n",
    "my_data[my_data=='y'] = 20\n",
    "my_data[my_data=='z'] = 21\n",
    "my_data[my_data=='?'] = np.nan\n",
    "\n",
    "my_data = np.delete(my_data, 0, 0).astype('float32') \n",
    "\n",
    "\n",
    "df = pd.DataFrame(my_data)\n",
    "\n",
    "\n",
    "df = df.apply(lambda x:x.fillna(x.value_counts().index[0]))\n",
    "\n",
    "\n"
   ]
  },
  {
   "cell_type": "code",
   "execution_count": 63,
   "metadata": {},
   "outputs": [
    {
     "name": "stdout",
     "output_type": "stream",
     "text": [
      "0.0    4208\n",
      "1.0    3916\n",
      "Name: classes, dtype: int64\n",
      "           classes    cap-shape  cap-surface    cap-color      bruises  \\\n",
      "count  8124.000000  8124.000000  8124.000000  8124.000000  8124.000000   \n",
      "mean      0.482029    11.917774    14.107829     9.779911     9.740029   \n",
      "std       0.499712     6.496233     5.715677     6.698089     4.435407   \n",
      "min       0.000000     3.000000     6.000000     0.000000     6.000000   \n",
      "25%       0.000000     6.000000     6.000000     7.000000     6.000000   \n",
      "50%       0.000000     8.000000    14.000000    11.000000     6.000000   \n",
      "75%       1.000000    19.000000    20.000000    18.000000    15.000000   \n",
      "max       1.000000    19.000000    20.000000    20.000000    15.000000   \n",
      "\n",
      "              odor  gill-attachment  gill-spacing    gill-size   gill-color  \\\n",
      "count  8124.000000      8124.000000   8124.000000  8124.000000  8124.000000   \n",
      "mean      9.494830         5.896603      6.260955     5.473658     9.249631   \n",
      "std       4.389033         0.634785      5.152014     3.697439     7.268320   \n",
      "min       1.000000         2.000000      4.000000     3.000000     0.000000   \n",
      "25%       6.000000         6.000000      4.000000     3.000000     3.000000   \n",
      "50%      11.000000         6.000000      4.000000     3.000000     7.000000   \n",
      "75%      11.000000         6.000000      4.000000    11.000000    16.000000   \n",
      "max      20.000000         6.000000     18.000000    11.000000    22.000000   \n",
      "\n",
      "          ...       stalk-surface-below-ring  stalk-color-above-ring  \\\n",
      "count     ...                    8124.000000             8124.000000   \n",
      "mean      ...                      11.917282               11.704579   \n",
      "std       ...                       3.443496                7.467643   \n",
      "min       ...                       6.000000                0.000000   \n",
      "25%       ...                       8.000000                3.000000   \n",
      "50%       ...                      14.000000               18.000000   \n",
      "75%       ...                      14.000000               18.000000   \n",
      "max       ...                      20.000000               20.000000   \n",
      "\n",
      "       stalk-color-below-ring  veil-type   veil-color  ring-number  \\\n",
      "count             8124.000000     8124.0  8124.000000  8124.000000   \n",
      "mean                11.653373        1.0    17.848351    12.217134   \n",
      "std                  7.450780        0.0     0.992718     0.788707   \n",
      "min                  0.000000        1.0    11.000000    11.000000   \n",
      "25%                  3.000000        1.0    18.000000    12.000000   \n",
      "50%                 18.000000        1.0    18.000000    12.000000   \n",
      "75%                 18.000000        1.0    18.000000    12.000000   \n",
      "max                 20.000000        1.0    20.000000    15.000000   \n",
      "\n",
      "         ring-type  spore-print-color   population      habitat  \n",
      "count  8124.000000        8124.000000  8124.000000  8124.000000  \n",
      "mean      2.008370          14.635155    15.622846     6.360414  \n",
      "std       3.182152           5.349729     4.567761     3.670725  \n",
      "min       0.000000           3.000000     2.000000     1.000000  \n",
      "25%       0.000000          11.000000    14.000000     5.000000  \n",
      "50%       1.000000          18.000000    17.000000     5.000000  \n",
      "75%       1.000000          18.000000    17.000000     7.000000  \n",
      "max      11.000000          22.000000    20.000000    18.000000  \n",
      "\n",
      "[8 rows x 23 columns]\n",
      "Decision Tree: Accuracy on training data: 1.0\n",
      "Decision Tree: Accuracy on test data: 1.0\n"
     ]
    }
   ],
   "source": [
    "\n",
    "df.columns = ['classes', 'cap-shape', 'cap-surface', 'cap-color', 'bruises', 'odor', 'gill-attachment', 'gill-spacing', 'gill-size', 'gill-color', 'stalk-shape', 'stalk-root', 'stalk-surface-above-ring', 'stalk-surface-below-ring', 'stalk-color-above-ring','stalk-color-below-ring','veil-type','veil-color','ring-number','ring-type','spore-print-color','population','habitat']\n",
    "\n",
    "\n",
    "print(df['classes'].value_counts())\n",
    "\n",
    "print(df.describe())\n",
    "\n",
    "newdf=df.values.astype('float32')\n",
    "\n",
    "class_y = newdf[:, 0]\n",
    "class_X = newdf[:, 1:]\n",
    "\n",
    "X_train, X_test, y_train, y_test = train_test_split(class_X, class_y, test_size=0.33)\n",
    "\n",
    "clf = tree.DecisionTreeClassifier(criterion=\"entropy\")\n",
    "\n",
    "clf.fit(X_train, y_train)\n",
    "\n",
    "acc_train = clf.score(X_train, y_train)\n",
    "acc_test = clf.score(X_test, y_test)\n",
    "\n",
    "print(\"Decision Tree: Accuracy on training data:\", acc_train)\n",
    "print(\"Decision Tree: Accuracy on test data:\", acc_test)\n",
    "\n"
   ]
  },
  {
   "cell_type": "code",
   "execution_count": 49,
   "metadata": {},
   "outputs": [
    {
     "name": "stdout",
     "output_type": "stream",
     "text": [
      "Random Forest: Accuracy on training data: 0.977933063626\n",
      "Random Forest: Accuracy on test data: 0.975363941769\n"
     ]
    }
   ],
   "source": [
    "clfrf = RandomForestClassifier(max_depth=5, n_estimators=10, max_features=1)\n",
    "clfrf.fit(X_train, y_train)\n",
    "\n",
    "acc_trainrf = clfrf.score(X_train, y_train)\n",
    "acc_testrf = clfrf.score(X_test, y_test)\n",
    "\n",
    "print(\"Random Forest: Accuracy on training data:\", acc_trainrf)\n",
    "print(\"Random Forest: Accuracy on test data:\", acc_testrf)"
   ]
  },
  {
   "cell_type": "code",
   "execution_count": 51,
   "metadata": {},
   "outputs": [
    {
     "name": "stdout",
     "output_type": "stream",
     "text": [
      "gaussian naive bayes: Accuracy on training data: 0.941338727473\n",
      "gaussian naive bayes: Accuracy on test data: 0.938409854423 \n",
      "\n"
     ]
    }
   ],
   "source": [
    "clfg = GaussianNB()\n",
    "clfg.fit(X_train, y_train)\n",
    "\n",
    "acc_traing = clfg.score(X_train, y_train)\n",
    "acc_testg = clfg.score(X_test, y_test)\n",
    "\n",
    "print(\"gaussian naive bayes: Accuracy on training data:\", acc_traing)\n",
    "print(\"gaussian naive bayes: Accuracy on test data:\", acc_testg, \"\\n\")"
   ]
  },
  {
   "cell_type": "code",
   "execution_count": null,
   "metadata": {
    "collapsed": true
   },
   "outputs": [],
   "source": []
  }
 ],
 "metadata": {
  "kernelspec": {
   "display_name": "Python 3",
   "language": "python",
   "name": "python3"
  },
  "language_info": {
   "codemirror_mode": {
    "name": "ipython",
    "version": 3
   },
   "file_extension": ".py",
   "mimetype": "text/x-python",
   "name": "python",
   "nbconvert_exporter": "python",
   "pygments_lexer": "ipython3",
   "version": "3.6.2"
  }
 },
 "nbformat": 4,
 "nbformat_minor": 2
}
